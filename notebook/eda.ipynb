{
 "cells": [
  {
   "cell_type": "code",
   "execution_count": null,
   "id": "0f34d960",
   "metadata": {},
   "outputs": [],
   "source": [
    "import pandas as pd\n",
    "import matplotlib.pyplot as plt\n",
    "from src.eda_plots import (\n",
    "    plot_class_distribution,\n",
    "    plot_transaction_amount_distribution,\n",
    "    plot_correlation_heatmap,\n",
    "    plot_amount_vs_class,\n",
    "    plot_time_distribution,\n",
    "    plot_feature_distributions,\n",
    "    plot_categorical_feature_distribution,\n",
    "    plot_categorical_by_target,\n",
    ")\n",
    "# Load cleaned & feature-engineered data\n",
    "fraud_df = pd.read_parquet(\"../data/processed/fraud_data_features.parquet\")\n",
    "credit_df = pd.read_parquet(\"../data/processed/credit_data_features.parquet\")\n",
    "\n"
   ]
  },
  {
   "cell_type": "code",
   "execution_count": null,
   "id": "073f0f13",
   "metadata": {},
   "outputs": [],
   "source": [
    "# 1. Class Distribution\n",
    "fig = plot_class_distribution(fraud_df, save=True, filename=\"class_distribution.png\")\n",
    "plt.show(fig)"
   ]
  },
  {
   "cell_type": "code",
   "execution_count": null,
   "id": "5234e9a4",
   "metadata": {},
   "outputs": [],
   "source": [
    "# 2. Transaction Amount Distribution\n",
    "fig = plot_transaction_amount_distribution(fraud_df, save=True, filename=\"transaction_amount_distribution.png\")\n",
    "plt.show(fig)"
   ]
  },
  {
   "cell_type": "code",
   "execution_count": null,
   "id": "f69977c6",
   "metadata": {},
   "outputs": [],
   "source": [
    "# 3. Correlation Heatmap\n",
    "fig = plot_correlation_heatmap(fraud_df, save=True, filename=\"correlation_heatmap.png\")\n",
    "plt.show(fig)"
   ]
  },
  {
   "cell_type": "code",
   "execution_count": null,
   "id": "4f2174bd",
   "metadata": {},
   "outputs": [],
   "source": [
    "# 4. Amount vs Fraud Class Boxplot\n",
    "fig = plot_amount_vs_class(fraud_df, save=True, filename=\"amount_vs_class.png\")\n",
    "plt.show(fig)"
   ]
  },
  {
   "cell_type": "code",
   "execution_count": null,
   "id": "7d24067f",
   "metadata": {},
   "outputs": [],
   "source": [
    "# 5. Signup Time Distribution\n",
    "fig = plot_time_distribution(fraud_df, time_col='signup_time', save=True, filename=\"signup_time_distribution.png\")\n",
    "plt.show(fig)"
   ]
  },
  {
   "cell_type": "code",
   "execution_count": null,
   "id": "a4867065",
   "metadata": {},
   "outputs": [],
   "source": [
    "# 6. Numeric Feature Distributions\n",
    "numeric_cols = [\n",
    "    \"purchase_value\", \"age\", \"time_since_signup\",\n",
    "    \"hour_of_day\", \"day_of_week\",\n",
    "    \"user_transaction_count\", \"device_transaction_count\"\n",
    "]\n",
    "figs = plot_feature_distributions(fraud_df, numeric_cols, save=True)\n",
    "for fig in figs:\n",
    "    plt.show(fig)"
   ]
  },
  {
   "cell_type": "code",
   "execution_count": null,
   "id": "7af0a1f4",
   "metadata": {},
   "outputs": [],
   "source": [
    "# 7. Categorical Feature Distributions (counts)\n",
    "for col in ['source', 'browser', 'sex', 'country']:\n",
    "    fig = plot_categorical_feature_distribution(fraud_df, col, save=True, filename=f\"{col}_distribution.png\")\n",
    "    plt.show(fig)"
   ]
  },
  {
   "cell_type": "code",
   "execution_count": null,
   "id": "6aa96907",
   "metadata": {},
   "outputs": [],
   "source": [
    "# 8. Fraud Rate by Category\n",
    "for col in ['source', 'browser', 'sex', 'country']:\n",
    "    fig = plot_categorical_by_target(fraud_df, col, save=True)\n",
    "    plt.show(fig)"
   ]
  }
 ],
 "metadata": {
  "language_info": {
   "name": "python"
  }
 },
 "nbformat": 4,
 "nbformat_minor": 5
}
