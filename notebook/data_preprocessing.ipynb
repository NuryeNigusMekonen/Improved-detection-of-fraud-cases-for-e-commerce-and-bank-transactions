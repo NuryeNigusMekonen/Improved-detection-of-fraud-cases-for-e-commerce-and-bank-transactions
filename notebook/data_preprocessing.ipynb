{
 "cells": [
  {
   "cell_type": "code",
   "execution_count": 15,
   "id": "155c6867",
   "metadata": {},
   "outputs": [],
   "source": [
    "import sys\n",
    "sys.path.append(\"..\") "
   ]
  },
  {
   "cell_type": "code",
   "execution_count": 16,
   "id": "9d9123eb",
   "metadata": {},
   "outputs": [],
   "source": [
    "# 1. Import libraries\n",
    "import pandas as pd\n",
    "import logging\n",
    "\n",
    "from src.preprocessing import (\n",
    "    handle_missing_values, clean_data_types, remove_duplicates, save_cleaned_data\n",
    ")\n",
    "\n",
    "from src.feature_engineering import (\n",
    "    add_time_features, add_frequency_features, merge_ip_country, save_feature_engineered_data\n",
    ")\n",
    "\n",
    "from src.transformers import (\n",
    "    get_preprocessor, apply_balancing\n",
    ")\n",
    "\n",
    "logging.basicConfig(level=logging.INFO)\n"
   ]
  },
  {
   "cell_type": "code",
   "execution_count": 17,
   "id": "f87e6b7d",
   "metadata": {},
   "outputs": [],
   "source": [
    "# Setup logging\n",
    "logging.basicConfig(level=logging.INFO)\n"
   ]
  },
  {
   "cell_type": "code",
   "execution_count": 18,
   "id": "ff0e386f",
   "metadata": {},
   "outputs": [],
   "source": [
    "# 2. Load raw data\n",
    "fraud_df = pd.read_csv(\"../data/raw/Fraud_Data.csv\")\n",
    "ip_df = pd.read_csv(\"../data/raw/IpAddress_to_Country.csv\")\n",
    "credit_df = pd.read_csv(\"../data/raw/creditcard.csv\")\n"
   ]
  },
  {
   "cell_type": "code",
   "execution_count": 19,
   "id": "e50694e3",
   "metadata": {},
   "outputs": [
    {
     "name": "stdout",
     "output_type": "stream",
     "text": [
      "Fraud Dataset Types:\n",
      " user_id             int64\n",
      "signup_time        object\n",
      "purchase_time      object\n",
      "purchase_value      int64\n",
      "device_id          object\n",
      "source             object\n",
      "browser            object\n",
      "sex                object\n",
      "age                 int64\n",
      "ip_address        float64\n",
      "class               int64\n",
      "dtype: object\n",
      "\n",
      "Credit Dataset Types:\n",
      " Time      float64\n",
      "V1        float64\n",
      "V2        float64\n",
      "V3        float64\n",
      "V4        float64\n",
      "V5        float64\n",
      "V6        float64\n",
      "V7        float64\n",
      "V8        float64\n",
      "V9        float64\n",
      "V10       float64\n",
      "V11       float64\n",
      "V12       float64\n",
      "V13       float64\n",
      "V14       float64\n",
      "V15       float64\n",
      "V16       float64\n",
      "V17       float64\n",
      "V18       float64\n",
      "V19       float64\n",
      "V20       float64\n",
      "V21       float64\n",
      "V22       float64\n",
      "V23       float64\n",
      "V24       float64\n",
      "V25       float64\n",
      "V26       float64\n",
      "V27       float64\n",
      "V28       float64\n",
      "Amount    float64\n",
      "Class       int64\n",
      "dtype: object\n",
      "\n",
      "IP Dataset Sample:\n",
      "    lower_bound_ip_address  upper_bound_ip_address    country\n",
      "0              16777216.0                16777471  Australia\n",
      "1              16777472.0                16777727      China\n",
      "2              16777728.0                16778239      China\n",
      "3              16778240.0                16779263  Australia\n",
      "4              16779264.0                16781311      China\n"
     ]
    }
   ],
   "source": [
    "#inspect datatypes\n",
    "print(\"Fraud Dataset Types:\\n\", fraud_df.dtypes)\n",
    "print(\"\\nCredit Dataset Types:\\n\", credit_df.dtypes)\n",
    "print(\"\\nIP Dataset Sample:\\n\", ip_df.head())"
   ]
  },
  {
   "cell_type": "code",
   "execution_count": 20,
   "id": "8cd0149e",
   "metadata": {},
   "outputs": [
    {
     "name": "stderr",
     "output_type": "stream",
     "text": [
      "INFO:root:Initial DataFrame shape: (151112, 11)\n",
      "INFO:root:No missing values detected.\n",
      "INFO:root:After dropping columns with >50.0% missing values: (151112, 11)\n",
      "INFO:root:No missing values detected.\n",
      "INFO:root:Converted column 'signup_time' to datetime.\n",
      "INFO:root:Converted column 'purchase_time' to datetime.\n",
      "INFO:root:Removed 0 duplicate rows.\n",
      "INFO:root:Initial DataFrame shape: (284807, 31)\n",
      "INFO:root:No missing values detected.\n",
      "INFO:root:After dropping columns with >50.0% missing values: (284807, 31)\n",
      "INFO:root:No missing values detected.\n",
      "INFO:root:Removed 1081 duplicate rows.\n"
     ]
    }
   ],
   "source": [
    "# handle missing values\n",
    "# convert data types\n",
    "# remove duplicates\n",
    "fraud_df = handle_missing_values(fraud_df)\n",
    "fraud_df = clean_data_types(fraud_df, datetime_cols=[\"signup_time\", \"purchase_time\"])\n",
    "fraud_df = remove_duplicates(fraud_df)\n",
    "\n",
    "credit_df = handle_missing_values(credit_df)\n",
    "credit_df = remove_duplicates(credit_df)\n",
    "\n"
   ]
  },
  {
   "cell_type": "code",
   "execution_count": 21,
   "id": "b1ad5e8f",
   "metadata": {},
   "outputs": [
    {
     "name": "stderr",
     "output_type": "stream",
     "text": [
      "INFO:root:Saved cleaned data to ../data/processed/fraud_data_cleaned.parquet\n",
      "INFO:root:Saved cleaned data to ../data/processed/creditcard_data_cleaned.parquet\n"
     ]
    }
   ],
   "source": [
    "save_cleaned_data(fraud_df, filename=\"fraud_data_cleaned.parquet\")\n",
    "save_cleaned_data(credit_df, filename=\"creditcard_data_cleaned.parquet\")\n"
   ]
  },
  {
   "cell_type": "code",
   "execution_count": 22,
   "id": "789a77a9",
   "metadata": {},
   "outputs": [
    {
     "name": "stderr",
     "output_type": "stream",
     "text": [
      "INFO:root:Added time_since_signup, hour_of_day, and day_of_week features.\n"
     ]
    },
    {
     "name": "stderr",
     "output_type": "stream",
     "text": [
      "INFO:root:Added user_transaction_count feature.\n",
      "INFO:root:Added device_transaction_count feature.\n"
     ]
    }
   ],
   "source": [
    "# Apply Basic Feature Engineering\n",
    "fraud_df = add_time_features(fraud_df)\n",
    "fraud_df = add_frequency_features(fraud_df)\n",
    "fraud_df = merge_ip_country(fraud_df, ip_df)"
   ]
  },
  {
   "cell_type": "code",
   "execution_count": 23,
   "id": "e426a5ef",
   "metadata": {},
   "outputs": [
    {
     "name": "stderr",
     "output_type": "stream",
     "text": [
      "INFO:root:Saved feature-engineered data to ../data/processed/fraud_data_basic_features.parquet\n"
     ]
    }
   ],
   "source": [
    "# Save feature-engineered version\n",
    "save_feature_engineered_data(fraud_df, filename=\"fraud_data_basic_features.parquet\")"
   ]
  },
  {
   "cell_type": "code",
   "execution_count": 24,
   "id": "8086ae93",
   "metadata": {},
   "outputs": [],
   "source": [
    "#8. Prepare columns for transformation\n",
    "numeric_cols = [\"purchase_value\", \"age\", \"time_since_signup\", \"hour_of_day\", \"day_of_week\",\n",
    "                \"user_transaction_count\", \"device_transaction_count\"]\n",
    "categorical_cols = [\"source\", \"browser\", \"sex\", \"country\"]\n"
   ]
  },
  {
   "cell_type": "code",
   "execution_count": 25,
   "id": "183e8702",
   "metadata": {},
   "outputs": [],
   "source": [
    "# Get preprocessor\n",
    "preprocessor = get_preprocessor(numeric_cols, categorical_cols)\n"
   ]
  },
  {
   "cell_type": "code",
   "execution_count": 26,
   "id": "80d42526",
   "metadata": {},
   "outputs": [
    {
     "name": "stderr",
     "output_type": "stream",
     "text": [
      "INFO:root:Original class distribution: {0: 136961, 1: 14151}\n",
      "INFO:root:Balanced class distribution: {0: 136961, 1: 136961}\n"
     ]
    }
   ],
   "source": [
    "# Apply preprocessing & balancing\n",
    "X_fraud = fraud_df[numeric_cols + categorical_cols]\n",
    "y_fraud = fraud_df[\"class\"]\n",
    "\n",
    "X_fraud_encoded = preprocessor.fit_transform(X_fraud)\n",
    "X_fraud_balanced, y_fraud_balanced = apply_balancing(X_fraud_encoded, y_fraud, strategy=\"smote\")\n"
   ]
  },
  {
   "cell_type": "code",
   "execution_count": null,
   "id": "5445001f",
   "metadata": {},
   "outputs": [
    {
     "name": "stderr",
     "output_type": "stream",
     "text": [
      "INFO:root:Original class distribution: {0: 283253, 1: 473}\n",
      "INFO:root:Balanced class distribution: {0: 473, 1: 473}\n"
     ]
    }
   ],
   "source": [
    "# Credit card dataset transformation\n",
    "X_credit = credit_df.drop(columns=[\"Class\"])\n",
    "y_credit = credit_df[\"Class\"]\n",
    "# Normalize credit card data (only numeric)\n",
    "credit_scaler = get_preprocessor(X_credit.columns.tolist(), [])\n",
    "X_credit_scaled = credit_scaler.fit_transform(X_credit)\n",
    "X_credit_balanced, y_credit_balanced = apply_balancing(X_credit_scaled, y_credit, strategy=\"undersample\")"
   ]
  },
  {
   "cell_type": "code",
   "execution_count": 28,
   "id": "3f4303fc",
   "metadata": {},
   "outputs": [
    {
     "name": "stdout",
     "output_type": "stream",
     "text": [
      "Fraud Data (balanced): (273922, 199), Fraud Count: 136961\n",
      "Credit Card Data (balanced): (946, 30), Fraud Count: 473\n"
     ]
    }
   ],
   "source": [
    "# Summary Report\n",
    "print(f\"Fraud Data (balanced): {X_fraud_balanced.shape}, Fraud Count: {sum(y_fraud_balanced)}\")\n",
    "print(f\"Credit Card Data (balanced): {X_credit_balanced.shape}, Fraud Count: {sum(y_credit_balanced)}\")"
   ]
  }
 ],
 "metadata": {
  "kernelspec": {
   "display_name": "CR-venv",
   "language": "python",
   "name": "python3"
  },
  "language_info": {
   "codemirror_mode": {
    "name": "ipython",
    "version": 3
   },
   "file_extension": ".py",
   "mimetype": "text/x-python",
   "name": "python",
   "nbconvert_exporter": "python",
   "pygments_lexer": "ipython3",
   "version": "3.10.18"
  }
 },
 "nbformat": 4,
 "nbformat_minor": 5
}
