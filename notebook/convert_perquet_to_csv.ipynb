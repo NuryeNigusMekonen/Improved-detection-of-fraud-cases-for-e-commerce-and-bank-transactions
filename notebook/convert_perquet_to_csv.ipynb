{
 "cells": [
  {
   "cell_type": "code",
   "execution_count": null,
   "id": "2ad694da",
   "metadata": {},
   "outputs": [],
   "source": [
    "import pandas as pd\n",
    "import sys\n",
    "sys.path.append(\"..\") \n",
    "# Read the feature-engineered Parquet file\n",
    "cdc = pd.read_parquet(\"../data/processed/creditcard_data_cleaned.parquet\")\n",
    "faae = pd.read_parquet(\"../data/processed/fraud_data_advanced_enriched.parquet\")\n",
    "fdbf = pd.read_parquet(\"../data/processed/fraud_data_basic_features.parquet\")\n",
    "fdc = pd.read_parquet(\"../data/processed/fraud_data_cleaned.parquet\")\n",
    "# Read the feature-engineered Parquet file\n",
    "cdc.to_csv(\"../data/processed/csv/creditcard_data_cleaned.csv\", index=False)\n",
    "faae.to_csv(\"../data/processed/csv/fraud_data_advanced_enriched.csv\", index=False)\n",
    "fdbf.to_csv(\"../data/processed/csv/fraud_data_basic_features.csv\", index=False)\n",
    "fdc.to_csv(\"../data/processed/csv/fraud_data_cleaned.csv\", index=False)\n"
   ]
  }
 ],
 "metadata": {
  "kernelspec": {
   "display_name": "CR-venv",
   "language": "python",
   "name": "python3"
  },
  "language_info": {
   "codemirror_mode": {
    "name": "ipython",
    "version": 3
   },
   "file_extension": ".py",
   "mimetype": "text/x-python",
   "name": "python",
   "nbconvert_exporter": "python",
   "pygments_lexer": "ipython3",
   "version": "3.10.18"
  }
 },
 "nbformat": 4,
 "nbformat_minor": 5
}
