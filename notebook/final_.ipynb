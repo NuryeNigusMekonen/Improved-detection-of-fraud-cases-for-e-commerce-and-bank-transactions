{
 "cells": [
  {
   "cell_type": "code",
   "execution_count": 1,
   "id": "a5bf66d7",
   "metadata": {},
   "outputs": [
    {
     "ename": "ImportError",
     "evalue": "cannot import name 'detect_outliers_iforest' from 'src.advanced.outlier_detection' (/home/nurye/Desktop/10_Academy/week_8-9/Improved-detection-of-fraud-cases-for-e-commerce-and-bank-transactions/notebook/../src/advanced/outlier_detection.py)",
     "output_type": "error",
     "traceback": [
      "\u001b[0;31m---------------------------------------------------------------------------\u001b[0m",
      "\u001b[0;31mImportError\u001b[0m                               Traceback (most recent call last)",
      "Cell \u001b[0;32mIn[1], line 21\u001b[0m\n\u001b[1;32m     12\u001b[0m \u001b[38;5;28;01mfrom\u001b[39;00m\u001b[38;5;250m \u001b[39m\u001b[38;5;21;01msrc\u001b[39;00m\u001b[38;5;21;01m.\u001b[39;00m\u001b[38;5;21;01madvanced\u001b[39;00m\u001b[38;5;21;01m.\u001b[39;00m\u001b[38;5;21;01mfraud_risk_scoring\u001b[39;00m\u001b[38;5;250m \u001b[39m\u001b[38;5;28;01mimport\u001b[39;00m (\n\u001b[1;32m     13\u001b[0m     calculate_transaction_risk,\n\u001b[1;32m     14\u001b[0m     assign_risk_score,\n\u001b[1;32m     15\u001b[0m )\n\u001b[1;32m     17\u001b[0m \u001b[38;5;28;01mfrom\u001b[39;00m\u001b[38;5;250m \u001b[39m\u001b[38;5;21;01msrc\u001b[39;00m\u001b[38;5;21;01m.\u001b[39;00m\u001b[38;5;21;01madvanced\u001b[39;00m\u001b[38;5;21;01m.\u001b[39;00m\u001b[38;5;21;01mfraud_clustering_analysis\u001b[39;00m\u001b[38;5;250m \u001b[39m\u001b[38;5;28;01mimport\u001b[39;00m(\n\u001b[1;32m     18\u001b[0m     perform_clustering_analysis,\n\u001b[1;32m     19\u001b[0m )\n\u001b[0;32m---> 21\u001b[0m \u001b[38;5;28;01mfrom\u001b[39;00m\u001b[38;5;250m \u001b[39m\u001b[38;5;21;01msrc\u001b[39;00m\u001b[38;5;21;01m.\u001b[39;00m\u001b[38;5;21;01madvanced\u001b[39;00m\u001b[38;5;21;01m.\u001b[39;00m\u001b[38;5;21;01moutlier_detection\u001b[39;00m\u001b[38;5;250m \u001b[39m\u001b[38;5;28;01mimport\u001b[39;00m (\n\u001b[1;32m     22\u001b[0m     detect_outliers_iforest,\n\u001b[1;32m     23\u001b[0m )\n\u001b[1;32m     25\u001b[0m \u001b[38;5;28;01mfrom\u001b[39;00m\u001b[38;5;250m \u001b[39m\u001b[38;5;21;01msrc\u001b[39;00m\u001b[38;5;21;01m.\u001b[39;00m\u001b[38;5;21;01madvanced\u001b[39;00m\u001b[38;5;21;01m.\u001b[39;00m\u001b[38;5;21;01meda_grouped_visuals\u001b[39;00m\u001b[38;5;250m \u001b[39m\u001b[38;5;28;01mimport\u001b[39;00m (\n\u001b[1;32m     26\u001b[0m     plot_fraud_rate_by_category,\n\u001b[1;32m     27\u001b[0m )\n\u001b[1;32m     29\u001b[0m logging\u001b[38;5;241m.\u001b[39mbasicConfig(level\u001b[38;5;241m=\u001b[39mlogging\u001b[38;5;241m.\u001b[39mINFO)\n",
      "\u001b[0;31mImportError\u001b[0m: cannot import name 'detect_outliers_iforest' from 'src.advanced.outlier_detection' (/home/nurye/Desktop/10_Academy/week_8-9/Improved-detection-of-fraud-cases-for-e-commerce-and-bank-transactions/notebook/../src/advanced/outlier_detection.py)"
     ]
    }
   ],
   "source": [
    "import pandas as pd\n",
    "import logging\n",
    "import sys\n",
    "sys.path.append(\"../\") \n",
    "\n",
    "from src.advanced.fraud_feature_engineering import (\n",
    "    add_transaction_amount_flags,\n",
    "    add_time_to_purchase,\n",
    "    save_advanced_featured_data\n",
    ")\n",
    "\n",
    "from src.advanced.fraud_risk_scoring import (\n",
    "    calculate_transaction_risk,\n",
    "    assign_risk_score,\n",
    ")\n",
    "\n",
    "from src.advanced.fraud_clustering_analysis import(\n",
    "    perform_clustering_analysis,\n",
    ")\n",
    "\n",
    "from src.advanced.outlier_detection import (\n",
    "    detect_outliers_iforest,\n",
    ")\n",
    "\n",
    "from src.advanced.eda_grouped_visuals import (\n",
    "    plot_fraud_rate_by_category,\n",
    ")\n",
    "\n",
    "logging.basicConfig(level=logging.INFO)\n",
    "# 1. Load Cleaned Data\n",
    "fraud_df = pd.read_parquet(\"../data/processed/creditcard_data_basic_features.parquet\")\n",
    "\n",
    "# 3. Advanced Feature Engineering\n",
    "fraud_df = add_transaction_amount_flags(fraud_df)\n",
    "fraud_df = add_time_to_purchase(fraud_df)\n",
    "\n",
    "save_advanced_featured_data(fraud_df)\n",
    "logging.info(\"Saved advanced feature engineered dataset\")\n",
    "\n",
    "# 4. Fraud Risk Scoring\n",
    "fraud_df = calculate_transaction_risk(fraud_df)\n",
    "fraud_df = assign_risk_score(fraud_df)\n",
    "\n",
    "logging.info(\"Calculated risk score features\")\n",
    "\n",
    "# 5. Clustering Analysis\n",
    "fraud_df = perform_clustering_analysis(fraud_df)\n",
    "logging.info(\"Completed fraud clustering analysis\")\n",
    "# 6. Outlier Detection\n",
    "fraud_df = detect_outliers_iforest(fraud_df)\n",
    "logging.info(\"Completed outlier detection\")\n",
    "# 7. Save Enriched Dataset\n",
    "fraud_df.to_parquet(\"../data/processed/fraud_data_advanced_enriched.parquet\", index=False)\n",
    "logging.info(\"Saved enriched fraud dataset\")\n",
    "# 8. Save EDA Visuals\n",
    "plot_fraud_rate_by_category(fraud_df, category_col='country', target_col='class', save=True)\n",
    "plot_fraud_rate_by_category(fraud_df, category_col='source', target_col='class', save=True)\n",
    "plot_fraud_rate_by_category(fraud_df, category_col='browser', target_col='class', save=True)\n",
    "\n",
    "logging.info(\"Saved fraud rate EDA plots\")\n"
   ]
  }
 ],
 "metadata": {
  "kernelspec": {
   "display_name": "CR-venv",
   "language": "python",
   "name": "python3"
  },
  "language_info": {
   "codemirror_mode": {
    "name": "ipython",
    "version": 3
   },
   "file_extension": ".py",
   "mimetype": "text/x-python",
   "name": "python",
   "nbconvert_exporter": "python",
   "pygments_lexer": "ipython3",
   "version": "3.10.18"
  }
 },
 "nbformat": 4,
 "nbformat_minor": 5
}
