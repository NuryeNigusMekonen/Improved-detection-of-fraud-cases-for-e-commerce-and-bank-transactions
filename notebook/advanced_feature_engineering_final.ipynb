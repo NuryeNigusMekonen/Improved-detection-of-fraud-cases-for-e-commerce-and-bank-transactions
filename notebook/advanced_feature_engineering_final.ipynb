{
 "cells": [
  {
   "cell_type": "code",
   "execution_count": null,
   "id": "a5bf66d7",
   "metadata": {},
   "outputs": [
    {
     "name": "stderr",
     "output_type": "stream",
     "text": [
      "INFO:root:Added high_value_transaction with threshold 100.\n",
      "INFO:root:Added time_to_purchase feature.\n",
      "INFO:root:Calculated risk score features\n",
      "INFO:root:Added 'cluster' column with 5 clusters.\n",
      "INFO:root:Completed fraud clustering analysis\n",
      "INFO:root:Outlier detection completed. Found 1512 outliers.\n",
      "INFO:root:Completed outlier detection\n",
      "INFO:root:Saved enriched fraud dataset\n",
      "INFO:root:Saved fraud rate EDA plots\n"
     ]
    }
   ],
   "source": [
    "import pandas as pd\n",
    "import logging\n",
    "import sys\n",
    "sys.path.append(\"../\") \n",
    "\n",
    "from src.advanced.fraud_feature_engineering import (\n",
    "    add_transaction_amount_flags,\n",
    "    add_time_to_purchase,\n",
    "    save_advanced_featured_data\n",
    ")\n",
    "\n",
    "from src.advanced.fraud_risk_scoring import (\n",
    "    calculate_transaction_risk,\n",
    "    assign_risk_score,\n",
    ")\n",
    "\n",
    "from src.advanced.fraud_clustering_analysis import(\n",
    "    perform_clustering_analysis,\n",
    ")\n",
    "\n",
    "from src.advanced.outlier_detection import (\n",
    "    detect_outliers_iforest,\n",
    ")\n",
    "\n",
    "from src.advanced.eda_grouped_visuals import (\n",
    "    plot_fraud_rate_by_category,\n",
    ")\n",
    "\n",
    "logging.basicConfig(level=logging.INFO)\n",
    "# 1. Load Cleaned Data\n",
    "fraud_df = pd.read_parquet(\"../data/processed/fraud_data_basic_features.parquet\")\n",
    "\n",
    "# 3. Advanced Feature Engineering\n",
    "fraud_df = add_transaction_amount_flags(fraud_df)\n",
    "fraud_df = add_time_to_purchase(fraud_df)\n",
    "# 4. Fraud Risk Scoring\n",
    "fraud_df = calculate_transaction_risk(fraud_df)\n",
    "fraud_df = assign_risk_score(fraud_df)\n",
    "\n",
    "logging.info(\"Calculated risk score features\")\n",
    "save_advanced_featured_data(fraud_df, \"../data/processed/fraud_data_advanced_features.parquet\")\n",
    "# 5. Clustering Analysis\n",
    "fraud_df = perform_clustering_analysis(fraud_df)\n",
    "logging.info(\"Completed fraud clustering analysis\")\n",
    "# 6. Outlier Detection\n",
    "fraud_df = detect_outliers_iforest(fraud_df)\n",
    "logging.info(\"Completed outlier detection\")\n",
    "# 7. Save Enriched Dataset\n",
    "fraud_df.to_parquet(\"../data/processed/fraud_data_advanced_enriched.parquet\", index=False)\n",
    "logging.info(\"Saved enriched fraud dataset\")\n",
    "# 8. Save EDA Visuals\n",
    "plot_fraud_rate_by_category(fraud_df, category_col='country', target_col='class', save=True)\n",
    "plot_fraud_rate_by_category(fraud_df, category_col='source', target_col='class', save=True)\n",
    "plot_fraud_rate_by_category(fraud_df, category_col='browser', target_col='class', save=True)\n",
    "\n",
    "logging.info(\"Saved fraud rate EDA plots\")"
   ]
  },
  {
   "cell_type": "code",
   "execution_count": null,
   "id": "471bf94b",
   "metadata": {},
   "outputs": [
    {
     "name": "stderr",
     "output_type": "stream",
     "text": [
      "INFO:root:Original class distribution: {0: 136961, 1: 14151}\n",
      "INFO:root:Balanced class distribution: {0: 136961, 1: 136961}\n"
     ]
    }
   ],
   "source": [
    "from src.transformers import get_preprocessor, apply_balancing, fit_transform_to_df\n",
    "import pandas as pd\n",
    "import numpy as np\n",
    "import joblib\n",
    "\n",
    "# Load Data\n",
    "fraud_df = pd.read_parquet('../data/processed/fraud_data_advanced_enriched.parquet')\n",
    "\n",
    "# Define Columns\n",
    "fraud_numeric_cols = [\n",
    "    'purchase_value', 'age', 'time_since_signup',\n",
    "    'user_transaction_count', 'device_transaction_count',\n",
    "    'time_to_purchase', 'high_value_transaction'\n",
    "]\n",
    "fraud_categorical_cols = ['source', 'browser', 'sex', 'country']\n",
    "\n",
    "# Separate Features & Target\n",
    "Xf = fraud_df[fraud_numeric_cols + fraud_categorical_cols]\n",
    "yf = fraud_df['class']\n",
    "\n",
    "# Preprocessing\n",
    "preprocessor_fraud = get_preprocessor(fraud_numeric_cols, fraud_categorical_cols)\n",
    "Xf_trans_df = fit_transform_to_df(preprocessor_fraud, Xf)\n",
    "\n",
    "# Save Feature Names before balancing\n",
    "np.save('../models/feature_names_fraud.npy', Xf_trans_df.columns)\n",
    "\n",
    "# Balancing\n",
    "Xf_bal, yf_bal = apply_balancing(Xf_trans_df, yf, strategy='smote')\n",
    "Xf_bal_df = pd.DataFrame(Xf_bal, columns=Xf_trans_df.columns)\n",
    "\n",
    "# Remove Constant/All-NaN Columns after balancing\n",
    "Xf_bal_df = Xf_bal_df.loc[:, (Xf_bal_df.nunique() > 1) & (~Xf_bal_df.isna().all())]\n",
    "\n",
    "# Save Preprocessor & Balanced Data\n",
    "joblib.dump(preprocessor_fraud, '../models/preprocessor_fraud.pkl')\n",
    "np.savez_compressed('../data/processed/Xf_balanced.npz', Xf_bal_df)\n",
    "np.savez_compressed('../data/processed/yf_balanced.npz', yf_bal)\n"
   ]
  },
  {
   "cell_type": "markdown",
   "id": "acce2b8a",
   "metadata": {},
   "source": [
    "| Type                    | Columns                                                                                                                   |\n",
    "| ----------------------- | ------------------------------------------------------------------------------------------------------------------------- |\n",
    "| **Original Features**   | `user_id`, `signup_time`, `purchase_time`, `purchase_value`, `device_id`, `source`, `browser`, `sex`, `age`, `ip_address` |\n",
    "| **Engineered Features** | `time_since_signup`, `hour_of_day`, `day_of_week`, `user_transaction_count`, `device_transaction_count`, `country`        |\n",
    "| **Advanced Features**   | `high_value_transaction`, `time_to_purchase`, `transaction_risk`, `risk_score_label`, `cluster`, `outlier`                |\n",
    "| **Target**              | `class`                                                                                                                   |\n"
   ]
  },
  {
   "cell_type": "code",
   "execution_count": null,
   "id": "d1ce8a55",
   "metadata": {},
   "outputs": [
    {
     "name": "stderr",
     "output_type": "stream",
     "text": [
      "INFO:root:Original class distribution: {0: 283253, 1: 473}\n",
      "INFO:root:Balanced class distribution: {0: 283253, 1: 283253}\n"
     ]
    }
   ],
   "source": [
    "from src.transformers import get_preprocessor, apply_balancing, fit_transform_to_df\n",
    "import pandas as pd\n",
    "import numpy as np\n",
    "import joblib\n",
    "\n",
    "# Load Credit Card Data\n",
    "cc_df = pd.read_parquet('../data/processed/creditcard_data_cleaned.parquet')\n",
    "\n",
    "# Define Columns\n",
    "cc_numeric_cols = [f'V{i}' for i in range(1, 29)] + ['Amount']\n",
    "cc_categorical_cols = []  # No categorical features\n",
    "\n",
    "# Separate Features & Target\n",
    "Xcc = cc_df[cc_numeric_cols]\n",
    "ycc = cc_df['Class']\n",
    "\n",
    "# Preprocessing\n",
    "preprocessor_cc = get_preprocessor(cc_numeric_cols, cc_categorical_cols)\n",
    "Xcc_trans_df = fit_transform_to_df(preprocessor_cc, Xcc)\n",
    "\n",
    "# Save Feature Names before balancing\n",
    "np.save('../models/feature_names_creditcard.npy', Xcc_trans_df.columns)\n",
    "\n",
    "# Balancing\n",
    "Xcc_bal, ycc_bal = apply_balancing(Xcc_trans_df, ycc, strategy='smote')\n",
    "Xcc_bal_df = pd.DataFrame(Xcc_bal, columns=Xcc_trans_df.columns)\n",
    "\n",
    "# Remove Constant/All-NaN Columns after balancing\n",
    "Xcc_bal_df = Xcc_bal_df.loc[:, (Xcc_bal_df.nunique() > 1) & (~Xcc_bal_df.isna().all())]\n",
    "\n",
    "# Save Preprocessor & Cleaned Balanced Data\n",
    "joblib.dump(preprocessor_cc, '../models/preprocessor_creditcard.pkl')\n",
    "np.savez_compressed('../data/processed/Xcc_balanced.npz', Xcc_bal_df)\n",
    "np.savez_compressed('../data/processed/ycc_balanced.npz', ycc_bal)\n",
    "\n",
    "print(\" Credit Card Preprocessor & Cleaned Balanced Data Saved Successfully.\")\n"
   ]
  }
 ],
 "metadata": {
  "kernelspec": {
   "display_name": "CR-venv",
   "language": "python",
   "name": "python3"
  },
  "language_info": {
   "codemirror_mode": {
    "name": "ipython",
    "version": 3
   },
   "file_extension": ".py",
   "mimetype": "text/x-python",
   "name": "python",
   "nbconvert_exporter": "python",
   "pygments_lexer": "ipython3",
   "version": "3.10.18"
  }
 },
 "nbformat": 4,
 "nbformat_minor": 5
}
