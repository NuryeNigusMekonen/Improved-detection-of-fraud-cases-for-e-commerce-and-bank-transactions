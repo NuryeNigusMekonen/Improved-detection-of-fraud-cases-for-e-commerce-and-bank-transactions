{
 "cells": [
  {
   "cell_type": "code",
   "execution_count": 10,
   "id": "a5bf66d7",
   "metadata": {},
   "outputs": [
    {
     "name": "stderr",
     "output_type": "stream",
     "text": [
      "INFO:root:Added high_value_transaction with threshold 100.\n",
      "INFO:root:Added time_to_purchase feature.\n",
      "INFO:root:Calculated risk score features\n",
      "INFO:root:Added 'cluster' column with 5 clusters.\n",
      "INFO:root:Completed fraud clustering analysis\n",
      "INFO:root:Outlier detection completed. Found 1512 outliers.\n",
      "INFO:root:Completed outlier detection\n",
      "INFO:root:Saved enriched fraud dataset\n",
      "INFO:root:Saved fraud rate EDA plots\n"
     ]
    }
   ],
   "source": [
    "import pandas as pd\n",
    "import logging\n",
    "import sys\n",
    "sys.path.append(\"../\") \n",
    "\n",
    "from src.advanced.fraud_feature_engineering import (\n",
    "    add_transaction_amount_flags,\n",
    "    add_time_to_purchase,\n",
    "    save_advanced_featured_data\n",
    ")\n",
    "\n",
    "from src.advanced.fraud_risk_scoring import (\n",
    "    calculate_transaction_risk,\n",
    "    assign_risk_score,\n",
    ")\n",
    "\n",
    "from src.advanced.fraud_clustering_analysis import(\n",
    "    perform_clustering_analysis,\n",
    ")\n",
    "\n",
    "from src.advanced.outlier_detection import (\n",
    "    detect_outliers_iforest,\n",
    ")\n",
    "\n",
    "from src.advanced.eda_grouped_visuals import (\n",
    "    plot_fraud_rate_by_category,\n",
    ")\n",
    "\n",
    "logging.basicConfig(level=logging.INFO)\n",
    "# 1. Load Cleaned Data\n",
    "fraud_df = pd.read_parquet(\"../data/processed/fraud_data_basic_features.parquet\")\n",
    "\n",
    "# 3. Advanced Feature Engineering\n",
    "fraud_df = add_transaction_amount_flags(fraud_df)\n",
    "fraud_df = add_time_to_purchase(fraud_df)\n",
    "# 4. Fraud Risk Scoring\n",
    "fraud_df = calculate_transaction_risk(fraud_df)\n",
    "fraud_df = assign_risk_score(fraud_df)\n",
    "\n",
    "logging.info(\"Calculated risk score features\")\n",
    "\n",
    "# 5. Clustering Analysis\n",
    "fraud_df = perform_clustering_analysis(fraud_df)\n",
    "logging.info(\"Completed fraud clustering analysis\")\n",
    "# 6. Outlier Detection\n",
    "fraud_df = detect_outliers_iforest(fraud_df)\n",
    "logging.info(\"Completed outlier detection\")\n",
    "# 7. Save Enriched Dataset\n",
    "fraud_df.to_parquet(\"../data/processed/fraud_data_advanced_enriched.parquet\", index=False)\n",
    "logging.info(\"Saved enriched fraud dataset\")\n",
    "# 8. Save EDA Visuals\n",
    "plot_fraud_rate_by_category(fraud_df, category_col='country', target_col='class', save=True)\n",
    "plot_fraud_rate_by_category(fraud_df, category_col='source', target_col='class', save=True)\n",
    "plot_fraud_rate_by_category(fraud_df, category_col='browser', target_col='class', save=True)\n",
    "\n",
    "logging.info(\"Saved fraud rate EDA plots\")"
   ]
  },
  {
   "cell_type": "code",
   "execution_count": 11,
   "id": "82ca2914",
   "metadata": {},
   "outputs": [],
   "source": [
    "#  Preprocessing & Balancing (your transformers.py)\n",
    "from src.transformers import get_preprocessor, apply_balancing\n",
    "numeric_cols = [\n",
    "    'purchase_value',\n",
    "    'age',\n",
    "    'time_since_signup',\n",
    "    'user_transaction_count',\n",
    "    'device_transaction_count',\n",
    "    'time_to_purchase',\n",
    "    'high_value_transaction'\n",
    "]\n",
    "\n",
    "categorical_cols = ['source', 'browser', 'sex', 'country']\n"
   ]
  },
  {
   "cell_type": "code",
   "execution_count": 12,
   "id": "471bf94b",
   "metadata": {},
   "outputs": [
    {
     "name": "stderr",
     "output_type": "stream",
     "text": [
      "INFO:root:Original class distribution: {0: 136961, 1: 14151}\n",
      "INFO:root:Balanced class distribution: {0: 136961, 1: 136961}\n"
     ]
    },
    {
     "name": "stdout",
     "output_type": "stream",
     "text": [
      " Preprocessor and balanced data saved successfully.\n"
     ]
    }
   ],
   "source": [
    "# Assuming you have fraud_df loaded\n",
    "import joblib\n",
    "X = fraud_df[numeric_cols + categorical_cols]\n",
    "y = fraud_df['class']\n",
    "# Get preprocessor\n",
    "preprocessor = get_preprocessor(numeric_cols, categorical_cols)\n",
    "# Fit preprocessor and transform X\n",
    "X_transformed = preprocessor.fit_transform(X)\n",
    "# Apply balancing\n",
    "X_balanced, y_balanced = apply_balancing(X_transformed, y, strategy='smote')\n",
    "# Save preprocessor\n",
    "joblib.dump(preprocessor, '../models/preprocessor.pkl')\n",
    "# Save balanced dataset\n",
    "import numpy as np\n",
    "np.savez_compressed('../data/processed/X_balanced.npz', X_balanced)\n",
    "np.savez_compressed('../data/processed/y_balanced.npz', y_balanced)\n",
    "\n",
    "print(\" Preprocessor and balanced data saved successfully.\")"
   ]
  },
  {
   "cell_type": "markdown",
   "id": "acce2b8a",
   "metadata": {},
   "source": [
    "| Type                    | Columns                                                                                                                   |\n",
    "| ----------------------- | ------------------------------------------------------------------------------------------------------------------------- |\n",
    "| **Original Features**   | `user_id`, `signup_time`, `purchase_time`, `purchase_value`, `device_id`, `source`, `browser`, `sex`, `age`, `ip_address` |\n",
    "| **Engineered Features** | `time_since_signup`, `hour_of_day`, `day_of_week`, `user_transaction_count`, `device_transaction_count`, `country`        |\n",
    "| **Advanced Features**   | `high_value_transaction`, `time_to_purchase`, `transaction_risk`, `risk_score_label`, `cluster`, `outlier`                |\n",
    "| **Target**              | `class`                                                                                                                   |\n"
   ]
  }
 ],
 "metadata": {
  "kernelspec": {
   "display_name": "CR-venv",
   "language": "python",
   "name": "python3"
  },
  "language_info": {
   "codemirror_mode": {
    "name": "ipython",
    "version": 3
   },
   "file_extension": ".py",
   "mimetype": "text/x-python",
   "name": "python",
   "nbconvert_exporter": "python",
   "pygments_lexer": "ipython3",
   "version": "3.10.18"
  }
 },
 "nbformat": 4,
 "nbformat_minor": 5
}
